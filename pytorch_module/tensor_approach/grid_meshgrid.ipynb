{
 "cells": [
  {
   "cell_type": "code",
   "execution_count": 1,
   "id": "initial_id",
   "metadata": {
    "collapsed": true,
    "ExecuteTime": {
     "end_time": "2024-03-20T01:57:04.390355800Z",
     "start_time": "2024-03-20T01:56:58.798293Z"
    }
   },
   "outputs": [],
   "source": [
    "import torch"
   ]
  },
  {
   "cell_type": "code",
   "outputs": [],
   "source": [
    "a = torch.arange(2,5)\n",
    "b = torch.arange(4,6)"
   ],
   "metadata": {
    "collapsed": false,
    "ExecuteTime": {
     "end_time": "2024-03-20T02:17:08.488313700Z",
     "start_time": "2024-03-20T02:17:08.474849600Z"
    }
   },
   "id": "a6b9ae1707e2a0cc",
   "execution_count": 14
  },
  {
   "cell_type": "code",
   "outputs": [
    {
     "data": {
      "text/plain": "tensor([2, 3, 4])"
     },
     "execution_count": 15,
     "metadata": {},
     "output_type": "execute_result"
    }
   ],
   "source": [
    "a"
   ],
   "metadata": {
    "collapsed": false,
    "ExecuteTime": {
     "end_time": "2024-03-20T02:17:08.892412300Z",
     "start_time": "2024-03-20T02:17:08.861023600Z"
    }
   },
   "id": "6afd74ab6d93ed5c",
   "execution_count": 15
  },
  {
   "cell_type": "code",
   "outputs": [
    {
     "data": {
      "text/plain": "tensor([4, 5])"
     },
     "execution_count": 16,
     "metadata": {},
     "output_type": "execute_result"
    }
   ],
   "source": [
    "b"
   ],
   "metadata": {
    "collapsed": false,
    "ExecuteTime": {
     "end_time": "2024-03-20T02:17:09.576697400Z",
     "start_time": "2024-03-20T02:17:09.545618200Z"
    }
   },
   "id": "2360c0821caf629",
   "execution_count": 16
  },
  {
   "cell_type": "code",
   "outputs": [
    {
     "data": {
      "text/plain": "(tensor([[2, 2],\n         [3, 3],\n         [4, 4]]),\n tensor([[4, 5],\n         [4, 5],\n         [4, 5]]))"
     },
     "execution_count": 18,
     "metadata": {},
     "output_type": "execute_result"
    }
   ],
   "source": [
    "# indexing='ij'， 第一个张量表示x坐标，第二个张量表示y坐标，两个张量对应位置的元素组成坐标，结果张量是按坐标系中列方向得出的\n",
    "# 输入张量为M×N，结果张量中每个张量均是M×N\n",
    "torch.meshgrid(a, b,indexing='ij')"
   ],
   "metadata": {
    "collapsed": false,
    "ExecuteTime": {
     "end_time": "2024-03-20T02:19:41.085210600Z",
     "start_time": "2024-03-20T02:19:41.064175500Z"
    }
   },
   "id": "a99938f312aee19c",
   "execution_count": 18
  },
  {
   "cell_type": "code",
   "outputs": [
    {
     "data": {
      "text/plain": "(tensor([[2, 3, 4],\n         [2, 3, 4]]),\n tensor([[4, 4, 4],\n         [5, 5, 5]]))"
     },
     "execution_count": 20,
     "metadata": {},
     "output_type": "execute_result"
    }
   ],
   "source": [
    "# indexing = 'xy' ，第一个张量表示x坐标，第二个张量表示y坐标，两个张量对应位置的元素组成坐标，结果张量是按坐标系中行方向得出的\n",
    "# 输入张量为M×N，结果张量中每个张量均是N×M\n",
    "torch.meshgrid(a, b,indexing='xy')"
   ],
   "metadata": {
    "collapsed": false,
    "ExecuteTime": {
     "end_time": "2024-03-20T02:21:21.728983200Z",
     "start_time": "2024-03-20T02:21:21.714468900Z"
    }
   },
   "id": "ce8115515172c0fc",
   "execution_count": 20
  },
  {
   "cell_type": "code",
   "outputs": [
    {
     "data": {
      "text/plain": "tensor([[2, 2, 3, 3, 4, 4],\n        [4, 5, 4, 5, 4, 5]])"
     },
     "execution_count": 23,
     "metadata": {},
     "output_type": "execute_result"
    }
   ],
   "source": [
    "torch.stack(torch.meshgrid(a, b)).flatten(1)"
   ],
   "metadata": {
    "collapsed": false,
    "ExecuteTime": {
     "end_time": "2024-03-20T02:32:11.152962Z",
     "start_time": "2024-03-20T02:32:11.138859100Z"
    }
   },
   "id": "c6e831984e5e1f8a",
   "execution_count": 23
  },
  {
   "cell_type": "code",
   "outputs": [],
   "source": [],
   "metadata": {
    "collapsed": false
   },
   "id": "894ef6da1128b2ee"
  }
 ],
 "metadata": {
  "kernelspec": {
   "display_name": "Python 3",
   "language": "python",
   "name": "python3"
  },
  "language_info": {
   "codemirror_mode": {
    "name": "ipython",
    "version": 2
   },
   "file_extension": ".py",
   "mimetype": "text/x-python",
   "name": "python",
   "nbconvert_exporter": "python",
   "pygments_lexer": "ipython2",
   "version": "2.7.6"
  }
 },
 "nbformat": 4,
 "nbformat_minor": 5
}
