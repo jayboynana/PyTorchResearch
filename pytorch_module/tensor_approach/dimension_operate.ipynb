{
 "cells": [
  {
   "cell_type": "markdown",
   "source": [
    "#### pytorch对维度操作的方法"
   ],
   "metadata": {
    "collapsed": false
   },
   "id": "9eda05ae23f0e383"
  },
  {
   "cell_type": "code",
   "outputs": [],
   "source": [
    "import torch\n",
    "import torch.nn as nn"
   ],
   "metadata": {
    "collapsed": false,
    "ExecuteTime": {
     "end_time": "2024-02-28T03:39:23.478914900Z",
     "start_time": "2024-02-28T03:39:18.307469500Z"
    }
   },
   "id": "8fccf0bf2d717501",
   "execution_count": 1
  },
  {
   "cell_type": "code",
   "outputs": [
    {
     "name": "stdout",
     "output_type": "stream",
     "text": [
      "tensor([[[[1., 1., 1.],\n",
      "          [1., 1., 1.],\n",
      "          [1., 1., 1.]],\n",
      "\n",
      "         [[1., 3., 2.],\n",
      "          [2., 3., 1.],\n",
      "          [3., 1., 3.]]],\n",
      "\n",
      "\n",
      "        [[[2., 3., 4.],\n",
      "          [5., 6., 7.],\n",
      "          [1., 1., 1.]],\n",
      "\n",
      "         [[2., 1., 3.],\n",
      "          [2., 2., 2.],\n",
      "          [4., 1., 2.]]]])\n"
     ]
    }
   ],
   "source": [
    "# tensor view\n",
    "input = torch.tensor([[[[1,1,1],[1,1,1],[1,1,1]],[[1,3,2],[2,3,1],[3,1,3]]],\n",
    "                      [[[2,3,4],[5,6,7],[1,1,1]],[[2,1,3],[2,2,2],[4,1,2]]]],dtype=torch.float32)\n",
    "print(input)"
   ],
   "metadata": {
    "collapsed": false,
    "ExecuteTime": {
     "end_time": "2024-02-28T06:56:35.139117700Z",
     "start_time": "2024-02-28T06:56:35.125370100Z"
    }
   },
   "id": "e93cb143cb1ec786",
   "execution_count": 25
  },
  {
   "cell_type": "code",
   "outputs": [
    {
     "name": "stdout",
     "output_type": "stream",
     "text": [
      "torch.Size([2, 2, 3, 3])\n",
      "torch.Size([2, 2, 3, 3])\n"
     ]
    }
   ],
   "source": [
    "print(input.size())\n",
    "print(input.shape)"
   ],
   "metadata": {
    "collapsed": false,
    "ExecuteTime": {
     "end_time": "2024-02-28T06:56:35.939669700Z",
     "start_time": "2024-02-28T06:56:35.913123700Z"
    }
   },
   "id": "8b599ce48336ae56",
   "execution_count": 26
  },
  {
   "cell_type": "code",
   "outputs": [
    {
     "name": "stdout",
     "output_type": "stream",
     "text": [
      "tensor([[1., 1., 1., 1., 1., 1., 1., 1., 1., 1., 3., 2., 2., 3., 1., 3., 1., 3.],\n",
      "        [2., 3., 4., 5., 6., 7., 1., 1., 1., 2., 1., 3., 2., 2., 2., 4., 1., 2.]])\n"
     ]
    }
   ],
   "source": [
    "in_view = input.view(-1,18)\n",
    "print(in_view)"
   ],
   "metadata": {
    "collapsed": false,
    "ExecuteTime": {
     "end_time": "2024-02-28T06:56:38.417649300Z",
     "start_time": "2024-02-28T06:56:38.401999400Z"
    }
   },
   "id": "599a0f6c41198a95",
   "execution_count": 27
  },
  {
   "cell_type": "markdown",
   "source": [
    "## 如果原始张量在所谓的contiguous的前提下，\n",
    "#### view和reshape方法都是会共享原始张量内存的，所以即使是赋值给新的变量后，对新变量的数据修改，仍然会影响原始张量\n",
    "## 但是如果不是contiguous,用view和reshape方法就不会再共享原始张量的内存了,\n",
    "#### 在view之前需要进行contiguous()处理，才能再使用view；\n",
    "#### 而对于reshape来说，虽然不是contiguous，但是仍然可以直接reshape\n",
    "#### 比如torch.transpose即转置后就不再是contiguous"
   ],
   "metadata": {
    "collapsed": false
   },
   "id": "3464e3f878bc2a28"
  },
  {
   "cell_type": "code",
   "outputs": [
    {
     "name": "stdout",
     "output_type": "stream",
     "text": [
      "tensor([[1., 1., 1., 1., 1., 1., 1., 1., 1., 1., 3., 2., 2., 3., 1., 3., 1., 3.],\n",
      "        [2., 3., 4., 5., 6., 7., 1., 1., 1., 2., 1., 3., 2., 2., 2., 4., 1., 5.]])\n",
      "tensor([[[[1., 1., 1.],\n",
      "          [1., 1., 1.],\n",
      "          [1., 1., 1.]],\n",
      "\n",
      "         [[1., 3., 2.],\n",
      "          [2., 3., 1.],\n",
      "          [3., 1., 3.]]],\n",
      "\n",
      "\n",
      "        [[[2., 3., 4.],\n",
      "          [5., 6., 7.],\n",
      "          [1., 1., 1.]],\n",
      "\n",
      "         [[2., 1., 3.],\n",
      "          [2., 2., 2.],\n",
      "          [4., 1., 5.]]]])\n"
     ]
    }
   ],
   "source": [
    "in_view[1][17] = 5\n",
    "print(in_view)\n",
    "print(input)"
   ],
   "metadata": {
    "collapsed": false,
    "ExecuteTime": {
     "end_time": "2024-02-28T06:56:42.069170600Z",
     "start_time": "2024-02-28T06:56:42.042813500Z"
    }
   },
   "id": "dc6df46458ab9399",
   "execution_count": 28
  },
  {
   "cell_type": "code",
   "outputs": [
    {
     "name": "stdout",
     "output_type": "stream",
     "text": [
      "tensor([[1., 1., 1., 1., 1., 1., 1., 1., 1., 1., 3., 2., 2., 3., 1., 3., 1., 3.],\n",
      "        [2., 3., 4., 5., 6., 7., 1., 1., 1., 2., 1., 3., 2., 2., 2., 4., 1., 5.]])\n"
     ]
    }
   ],
   "source": [
    "in_reshape = torch.reshape(input,(-1,18))\n",
    "print(in_reshape)"
   ],
   "metadata": {
    "collapsed": false,
    "ExecuteTime": {
     "end_time": "2024-02-28T06:57:09.123050600Z",
     "start_time": "2024-02-28T06:57:09.114654900Z"
    }
   },
   "id": "9788ab441af148d9",
   "execution_count": 29
  },
  {
   "cell_type": "code",
   "outputs": [
    {
     "name": "stdout",
     "output_type": "stream",
     "text": [
      "tensor([[1., 1., 1., 1., 1., 1., 1., 1., 1., 1., 3., 2., 2., 3., 1., 3., 1., 3.],\n",
      "        [2., 3., 4., 5., 6., 7., 1., 1., 1., 2., 1., 3., 2., 2., 2., 4., 1., 2.]])\n",
      "tensor([[[[1., 1., 1.],\n",
      "          [1., 1., 1.],\n",
      "          [1., 1., 1.]],\n",
      "\n",
      "         [[1., 3., 2.],\n",
      "          [2., 3., 1.],\n",
      "          [3., 1., 3.]]],\n",
      "\n",
      "\n",
      "        [[[2., 3., 4.],\n",
      "          [5., 6., 7.],\n",
      "          [1., 1., 1.]],\n",
      "\n",
      "         [[2., 1., 3.],\n",
      "          [2., 2., 2.],\n",
      "          [4., 1., 2.]]]])\n"
     ]
    }
   ],
   "source": [
    "in_reshape[1][17] = 2\n",
    "print(in_reshape)\n",
    "print(input)"
   ],
   "metadata": {
    "collapsed": false,
    "ExecuteTime": {
     "end_time": "2024-02-28T06:57:24.432010500Z",
     "start_time": "2024-02-28T06:57:24.403546100Z"
    }
   },
   "id": "a7308a21b4ffe9f5",
   "execution_count": 30
  },
  {
   "cell_type": "code",
   "outputs": [
    {
     "name": "stdout",
     "output_type": "stream",
     "text": [
      "tensor([[[[1., 1., 1.],\n",
      "          [1., 3., 2.]],\n",
      "\n",
      "         [[1., 1., 1.],\n",
      "          [2., 3., 1.]],\n",
      "\n",
      "         [[1., 1., 1.],\n",
      "          [3., 1., 3.]]],\n",
      "\n",
      "\n",
      "        [[[2., 3., 4.],\n",
      "          [2., 1., 3.]],\n",
      "\n",
      "         [[5., 6., 7.],\n",
      "          [2., 2., 2.]],\n",
      "\n",
      "         [[1., 1., 1.],\n",
      "          [4., 1., 2.]]]])\n",
      "torch.Size([2, 3, 2, 3])\n"
     ]
    }
   ],
   "source": [
    "in_transpose = torch.transpose(input,1,2)\n",
    "print(in_transpose)\n",
    "print(in_transpose.shape)"
   ],
   "metadata": {
    "collapsed": false,
    "ExecuteTime": {
     "end_time": "2024-02-28T07:11:54.057744200Z",
     "start_time": "2024-02-28T07:11:54.023789600Z"
    }
   },
   "id": "dba8f99ded7d97f3",
   "execution_count": 32
  },
  {
   "cell_type": "code",
   "outputs": [
    {
     "ename": "RuntimeError",
     "evalue": "view size is not compatible with input tensor's size and stride (at least one dimension spans across two contiguous subspaces). Use .reshape(...) instead.",
     "output_type": "error",
     "traceback": [
      "\u001B[1;31m---------------------------------------------------------------------------\u001B[0m",
      "\u001B[1;31mRuntimeError\u001B[0m                              Traceback (most recent call last)",
      "Cell \u001B[1;32mIn[36], line 1\u001B[0m\n\u001B[1;32m----> 1\u001B[0m in_trans_view \u001B[38;5;241m=\u001B[39m \u001B[43min_transpose\u001B[49m\u001B[38;5;241;43m.\u001B[39;49m\u001B[43mview\u001B[49m\u001B[43m(\u001B[49m\u001B[38;5;241;43m-\u001B[39;49m\u001B[38;5;241;43m1\u001B[39;49m\u001B[43m,\u001B[49m\u001B[38;5;241;43m18\u001B[39;49m\u001B[43m)\u001B[49m\n\u001B[0;32m      2\u001B[0m \u001B[38;5;28mprint\u001B[39m(in_trans_view)\n",
      "\u001B[1;31mRuntimeError\u001B[0m: view size is not compatible with input tensor's size and stride (at least one dimension spans across two contiguous subspaces). Use .reshape(...) instead."
     ]
    }
   ],
   "source": [
    "# 不是contiguous，无法使用view方法\n",
    "in_trans_view = in_transpose.view(-1,18)\n",
    "print(in_trans_view)"
   ],
   "metadata": {
    "collapsed": false,
    "ExecuteTime": {
     "end_time": "2024-02-28T07:14:59.342544600Z",
     "start_time": "2024-02-28T07:14:59.315100900Z"
    }
   },
   "id": "1b8433c6ed0179f0",
   "execution_count": 36
  },
  {
   "cell_type": "code",
   "outputs": [
    {
     "name": "stdout",
     "output_type": "stream",
     "text": [
      "tensor([[1., 1., 1., 1., 3., 2., 1., 1., 1., 2., 3., 1., 1., 1., 1., 3., 1., 3.],\n",
      "        [2., 3., 4., 2., 1., 3., 5., 6., 7., 2., 2., 2., 1., 1., 1., 4., 1., 2.]])\n"
     ]
    }
   ],
   "source": [
    "in_trans_view = in_transpose.contiguous().view(-1,18)\n",
    "print(in_trans_view)"
   ],
   "metadata": {
    "collapsed": false
   },
   "id": "dc2ec882e2ec5b17",
   "execution_count": 38
  },
  {
   "cell_type": "code",
   "outputs": [
    {
     "name": "stdout",
     "output_type": "stream",
     "text": [
      "tensor([[1., 1., 1., 1., 3., 2., 1., 1., 1., 2., 3., 1., 1., 1., 1., 3., 1., 3.],\n",
      "        [2., 3., 4., 2., 1., 3., 5., 6., 7., 2., 2., 2., 1., 1., 1., 4., 1., 5.]])\n",
      "tensor([[[[1., 1., 1.],\n",
      "          [1., 3., 2.]],\n",
      "\n",
      "         [[1., 1., 1.],\n",
      "          [2., 3., 1.]],\n",
      "\n",
      "         [[1., 1., 1.],\n",
      "          [3., 1., 3.]]],\n",
      "\n",
      "\n",
      "        [[[2., 3., 4.],\n",
      "          [2., 1., 3.]],\n",
      "\n",
      "         [[5., 6., 7.],\n",
      "          [2., 2., 2.]],\n",
      "\n",
      "         [[1., 1., 1.],\n",
      "          [4., 1., 2.]]]])\n"
     ]
    }
   ],
   "source": [
    "# view后修改数据，不会影响原始张量\n",
    "in_trans_view[1][17] = 5\n",
    "print(in_trans_view)\n",
    "print(in_transpose)"
   ],
   "metadata": {
    "collapsed": false,
    "ExecuteTime": {
     "end_time": "2024-02-28T07:17:31.815877700Z",
     "start_time": "2024-02-28T07:17:31.787523900Z"
    }
   },
   "id": "b52c035a684db948",
   "execution_count": 39
  },
  {
   "cell_type": "code",
   "outputs": [
    {
     "name": "stdout",
     "output_type": "stream",
     "text": [
      "tensor([[1., 1., 1., 1., 3., 2., 1., 1., 1., 2., 3., 1., 1., 1., 1., 3., 1., 3.],\n",
      "        [2., 3., 4., 2., 1., 3., 5., 6., 7., 2., 2., 2., 1., 1., 1., 4., 1., 2.]])\n"
     ]
    }
   ],
   "source": [
    "# reshape可以直接使用\n",
    "in_trans_reshape = in_transpose.reshape(-1,18)\n",
    "print(in_trans_reshape)"
   ],
   "metadata": {
    "collapsed": false,
    "ExecuteTime": {
     "end_time": "2024-02-28T07:18:06.640540100Z",
     "start_time": "2024-02-28T07:18:06.619386100Z"
    }
   },
   "id": "630306d3c26fb167",
   "execution_count": 40
  },
  {
   "cell_type": "code",
   "outputs": [
    {
     "name": "stdout",
     "output_type": "stream",
     "text": [
      "tensor([[1., 1., 1., 1., 3., 2., 1., 1., 1., 2., 3., 1., 1., 1., 1., 3., 1., 3.],\n",
      "        [2., 3., 4., 2., 1., 3., 5., 6., 7., 2., 2., 2., 1., 1., 1., 4., 1., 6.]])\n",
      "tensor([[[[1., 1., 1.],\n",
      "          [1., 3., 2.]],\n",
      "\n",
      "         [[1., 1., 1.],\n",
      "          [2., 3., 1.]],\n",
      "\n",
      "         [[1., 1., 1.],\n",
      "          [3., 1., 3.]]],\n",
      "\n",
      "\n",
      "        [[[2., 3., 4.],\n",
      "          [2., 1., 3.]],\n",
      "\n",
      "         [[5., 6., 7.],\n",
      "          [2., 2., 2.]],\n",
      "\n",
      "         [[1., 1., 1.],\n",
      "          [4., 1., 2.]]]])\n"
     ]
    }
   ],
   "source": [
    "# reshape后修改数据，不会影响原始张量\n",
    "in_trans_reshape[1][17] = 6\n",
    "print(in_trans_reshape)\n",
    "print(in_transpose)"
   ],
   "metadata": {
    "collapsed": false,
    "ExecuteTime": {
     "end_time": "2024-02-28T07:26:27.106245Z",
     "start_time": "2024-02-28T07:26:27.082761900Z"
    }
   },
   "id": "86bf923d42ef37f2",
   "execution_count": 42
  },
  {
   "cell_type": "code",
   "outputs": [],
   "source": [],
   "metadata": {
    "collapsed": false
   },
   "id": "c4986d383ef74d75"
  }
 ],
 "metadata": {
  "kernelspec": {
   "display_name": "Python 3",
   "language": "python",
   "name": "python3"
  },
  "language_info": {
   "codemirror_mode": {
    "name": "ipython",
    "version": 2
   },
   "file_extension": ".py",
   "mimetype": "text/x-python",
   "name": "python",
   "nbconvert_exporter": "python",
   "pygments_lexer": "ipython2",
   "version": "2.7.6"
  }
 },
 "nbformat": 4,
 "nbformat_minor": 5
}
