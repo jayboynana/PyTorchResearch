{
 "cells": [
  {
   "cell_type": "markdown",
   "source": [
    "#### torch.nn.functional.pad\n",
    "#### padding是从张量后面两个维度开始的"
   ],
   "metadata": {
    "collapsed": false
   },
   "id": "9ae0711f75d8193c"
  },
  {
   "cell_type": "code",
   "outputs": [],
   "source": [
    "import torch\n",
    "import torch.nn.functional as F"
   ],
   "metadata": {
    "collapsed": false,
    "ExecuteTime": {
     "end_time": "2024-02-27T03:45:32.117795300Z",
     "start_time": "2024-02-27T03:45:26.480190600Z"
    }
   },
   "id": "4bbf907b22e00d5e",
   "execution_count": 1
  },
  {
   "cell_type": "code",
   "outputs": [
    {
     "name": "stdout",
     "output_type": "stream",
     "text": [
      "torch.Size([3, 3, 4, 4])\n"
     ]
    }
   ],
   "source": [
    "t4d = torch.empty(3, 3, 4, 2)\n",
    "p1d = (1,1)\n",
    "out = F.pad(t4d,p1d)\n",
    "print(out.size())"
   ],
   "metadata": {
    "collapsed": false,
    "ExecuteTime": {
     "end_time": "2024-02-27T03:50:01.985176700Z",
     "start_time": "2024-02-27T03:50:01.975405800Z"
    }
   },
   "id": "720a74f6e662678",
   "execution_count": 9
  },
  {
   "cell_type": "code",
   "outputs": [
    {
     "name": "stdout",
     "output_type": "stream",
     "text": [
      "torch.Size([3, 3, 8, 4])\n"
     ]
    }
   ],
   "source": [
    "t4d = torch.empty(3, 3, 4, 2)\n",
    "p2d = (1,1,2,2)\n",
    "out = F.pad(t4d,p2d)\n",
    "print(out.size())"
   ],
   "metadata": {
    "collapsed": false,
    "ExecuteTime": {
     "end_time": "2024-02-27T03:50:45.733150600Z",
     "start_time": "2024-02-27T03:50:45.701413100Z"
    }
   },
   "id": "8e88a470a09f3057",
   "execution_count": 10
  },
  {
   "cell_type": "code",
   "outputs": [
    {
     "name": "stdout",
     "output_type": "stream",
     "text": [
      "torch.Size([3, 9, 7, 3])\n"
     ]
    }
   ],
   "source": [
    "t4d = torch.empty(3,3,4,2)\n",
    "# print(t4d)\n",
    "p3d = (0,1,2,1,3,3)\n",
    "out = F.pad(t4d, p3d)\n",
    "# print(out)\n",
    "print(out.size())"
   ],
   "metadata": {
    "collapsed": false,
    "ExecuteTime": {
     "end_time": "2024-02-27T03:49:06.010307900Z",
     "start_time": "2024-02-27T03:49:05.991062200Z"
    }
   },
   "id": "3884fa4a5d1d2d61",
   "execution_count": 6
  },
  {
   "cell_type": "code",
   "outputs": [],
   "source": [],
   "metadata": {
    "collapsed": false
   },
   "id": "4dd96707831ac06e"
  }
 ],
 "metadata": {
  "kernelspec": {
   "display_name": "Python 3",
   "language": "python",
   "name": "python3"
  },
  "language_info": {
   "codemirror_mode": {
    "name": "ipython",
    "version": 2
   },
   "file_extension": ".py",
   "mimetype": "text/x-python",
   "name": "python",
   "nbconvert_exporter": "python",
   "pygments_lexer": "ipython2",
   "version": "2.7.6"
  }
 },
 "nbformat": 4,
 "nbformat_minor": 5
}
