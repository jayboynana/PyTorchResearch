{
 "cells": [
  {
   "cell_type": "markdown",
   "id": "6dd49a41-b1bd-4658-8007-f8211b8aa270",
   "metadata": {},
   "source": [
    "## Optimizing Model Parameters"
   ]
  },
  {
   "cell_type": "code",
   "execution_count": 1,
   "id": "2f92d77e-b951-4b33-99ea-2df94100063d",
   "metadata": {
    "tags": []
   },
   "outputs": [],
   "source": [
    "import torch\n",
    "from torch import nn\n",
    "from torch.utils.data import DataLoader\n",
    "from torchvision import datasets\n",
    "from torchvision.transforms import ToTensor"
   ]
  },
  {
   "cell_type": "code",
   "execution_count": 2,
   "id": "80b1b4e8-06d8-40bf-85e7-d17b74cc1abe",
   "metadata": {
    "tags": []
   },
   "outputs": [],
   "source": [
    "training_data = datasets.FashionMNIST(\n",
    "    root=\"FashionMNIST\",\n",
    "    train=True,\n",
    "    download=True,\n",
    "    transform=ToTensor()\n",
    ")\n",
    "\n",
    "test_data = datasets.FashionMNIST(\n",
    "    root=\"FashionMNIST\",\n",
    "    train=False,\n",
    "    download=True,\n",
    "    transform=ToTensor()\n",
    ")"
   ]
  },
  {
   "cell_type": "code",
   "execution_count": 3,
   "id": "ffcd6524-3d42-44ee-aa72-5653577c5584",
   "metadata": {
    "tags": []
   },
   "outputs": [],
   "source": [
    "#Hyperparameters\n",
    "learning_rate = 1e-3\n",
    "batch_size = 64\n",
    "epochs = 10"
   ]
  },
  {
   "cell_type": "code",
   "execution_count": 22,
   "id": "af510b74-ecae-4b36-951e-5b1f41e6bc87",
   "metadata": {
    "tags": []
   },
   "outputs": [],
   "source": [
    "train_dataloader = DataLoader(training_data, batch_size=batch_size)\n",
    "test_dataloader = DataLoader(test_data, batch_size=batch_size)"
   ]
  },
  {
   "cell_type": "code",
   "execution_count": 14,
   "id": "a749bc93-94c5-490b-b944-b1841d2de33c",
   "metadata": {
    "tags": []
   },
   "outputs": [
    {
     "name": "stdout",
     "output_type": "stream",
     "text": [
      "60000\n",
      "938\n"
     ]
    }
   ],
   "source": [
    "print(len(train_dataloader.dataset))\n",
    "print(len(train_dataloader))"
   ]
  },
  {
   "cell_type": "code",
   "execution_count": 4,
   "id": "71d39d3b-f323-4948-bd83-923dcec171e4",
   "metadata": {
    "tags": []
   },
   "outputs": [],
   "source": [
    "class NeuralNetwork(nn.Module):\n",
    "    def __init__(self):\n",
    "        super().__init__()\n",
    "        self.flatten = nn.Flatten()\n",
    "        self.linear_relu_stack = nn.Sequential(\n",
    "            nn.Linear(28*28, 512),\n",
    "            nn.ReLU(),\n",
    "            nn.Linear(512, 512),\n",
    "            nn.ReLU(),\n",
    "            nn.Linear(512, 10),\n",
    "        )\n",
    "\n",
    "    def forward(self, x):\n",
    "        x = self.flatten(x)\n",
    "        logits = self.linear_relu_stack(x)\n",
    "        return logits\n",
    "\n",
    "model = NeuralNetwork()"
   ]
  },
  {
   "cell_type": "code",
   "execution_count": 5,
   "id": "1bde0f17-f026-4b77-90e4-83be1f345359",
   "metadata": {
    "tags": []
   },
   "outputs": [],
   "source": [
    "# Initialize the loss function\n",
    "loss_fn = nn.CrossEntropyLoss()"
   ]
  },
  {
   "cell_type": "code",
   "execution_count": 6,
   "id": "43741224-3dfc-4468-b5a3-bbe890e1401c",
   "metadata": {
    "tags": []
   },
   "outputs": [],
   "source": [
    "optimizer = torch.optim.SGD(model.parameters(), lr=learning_rate)"
   ]
  },
  {
   "cell_type": "markdown",
   "id": "e8ac61c7-5738-42da-8d40-474eeec6155f",
   "metadata": {},
   "source": [
    "### Full Implementation"
   ]
  },
  {
   "cell_type": "code",
   "execution_count": 11,
   "id": "f32f39cc-d787-4beb-8484-2cc4f24daa15",
   "metadata": {
    "tags": []
   },
   "outputs": [],
   "source": [
    "def train_loop(dataloader, model, loss_fn, optimizer):\n",
    "    size = len(dataloader.dataset)\n",
    "    # Set the model to training mode - important for batch normalization and dropout layers\n",
    "    # Unnecessary in this situation but added for best practices\n",
    "    model.train()\n",
    "    for batch, (X, y) in enumerate(dataloader):\n",
    "        # Compute prediction and loss\n",
    "        pred = model(X)\n",
    "        loss = loss_fn(pred, y)\n",
    "\n",
    "        # Backpropagation\n",
    "        loss.backward()\n",
    "        optimizer.step()\n",
    "        optimizer.zero_grad()\n",
    "\n",
    "        if batch % 100 == 0:\n",
    "            loss, current = loss.item(), (batch + 1) * len(X)\n",
    "            print(f\"loss: {loss:>7f}  [{current:>5d}/{size:>5d}]\")\n",
    "\n",
    "\n",
    "def test_loop(dataloader, model, loss_fn):\n",
    "    # Set the model to evaluation mode - important for batch normalization and dropout layers\n",
    "    # Unnecessary in this situation but added for best practices\n",
    "    model.eval()\n",
    "    size = len(dataloader.dataset)\n",
    "    num_batches = len(dataloader)\n",
    "    test_loss, correct = 0, 0\n",
    "\n",
    "    # Evaluating the model with torch.no_grad() ensures that no gradients are computed during test mode\n",
    "    # also serves to reduce unnecessary gradient computations and memory usage for tensors with requires_grad=True\n",
    "    with torch.no_grad():\n",
    "        for X, y in dataloader:\n",
    "            pred = model(X)\n",
    "            test_loss += loss_fn(pred, y).item()\n",
    "            correct += (pred.argmax(1) == y).type(torch.float).sum().item()\n",
    "\n",
    "    test_loss /= num_batches\n",
    "    correct /= size\n",
    "    print(f\"Test Error: \\n Accuracy: {(100*correct):>0.1f}%, Avg loss: {test_loss:>8f} \\n\")"
   ]
  },
  {
   "cell_type": "code",
   "execution_count": 12,
   "id": "52871428-f784-47f8-bdf9-c52cf61adfee",
   "metadata": {
    "collapsed": true,
    "jupyter": {
     "outputs_hidden": true
    },
    "tags": []
   },
   "outputs": [
    {
     "name": "stdout",
     "output_type": "stream",
     "text": [
      "Epoch 1\n",
      "-------------------------------\n",
      "loss: 2.308111  [   64/60000]\n",
      "loss: 2.291641  [ 6464/60000]\n",
      "loss: 2.274175  [12864/60000]\n",
      "loss: 2.269633  [19264/60000]\n",
      "loss: 2.260437  [25664/60000]\n",
      "loss: 2.218767  [32064/60000]\n",
      "loss: 2.235656  [38464/60000]\n",
      "loss: 2.193599  [44864/60000]\n",
      "loss: 2.197357  [51264/60000]\n",
      "loss: 2.170013  [57664/60000]\n",
      "Test Error: \n",
      " Accuracy: 44.7%, Avg loss: 2.157804 \n",
      "\n",
      "Epoch 2\n",
      "-------------------------------\n",
      "loss: 2.168062  [   64/60000]\n",
      "loss: 2.152477  [ 6464/60000]\n",
      "loss: 2.100463  [12864/60000]\n",
      "loss: 2.118626  [19264/60000]\n",
      "loss: 2.074412  [25664/60000]\n",
      "loss: 2.001366  [32064/60000]\n",
      "loss: 2.044006  [38464/60000]\n",
      "loss: 1.956301  [44864/60000]\n",
      "loss: 1.970245  [51264/60000]\n",
      "loss: 1.896825  [57664/60000]\n",
      "Test Error: \n",
      " Accuracy: 53.3%, Avg loss: 1.888839 \n",
      "\n",
      "Epoch 3\n",
      "-------------------------------\n",
      "loss: 1.925319  [   64/60000]\n",
      "loss: 1.886309  [ 6464/60000]\n",
      "loss: 1.776374  [12864/60000]\n",
      "loss: 1.818692  [19264/60000]\n",
      "loss: 1.716096  [25664/60000]\n",
      "loss: 1.653356  [32064/60000]\n",
      "loss: 1.694819  [38464/60000]\n",
      "loss: 1.584542  [44864/60000]\n",
      "loss: 1.616388  [51264/60000]\n",
      "loss: 1.514536  [57664/60000]\n",
      "Test Error: \n",
      " Accuracy: 60.6%, Avg loss: 1.522995 \n",
      "\n",
      "Epoch 4\n",
      "-------------------------------\n",
      "loss: 1.593887  [   64/60000]\n",
      "loss: 1.552019  [ 6464/60000]\n",
      "loss: 1.408602  [12864/60000]\n",
      "loss: 1.477612  [19264/60000]\n",
      "loss: 1.370061  [25664/60000]\n",
      "loss: 1.353576  [32064/60000]\n",
      "loss: 1.381912  [38464/60000]\n",
      "loss: 1.298139  [44864/60000]\n",
      "loss: 1.332022  [51264/60000]\n",
      "loss: 1.240322  [57664/60000]\n",
      "Test Error: \n",
      " Accuracy: 63.2%, Avg loss: 1.256389 \n",
      "\n",
      "Epoch 5\n",
      "-------------------------------\n",
      "loss: 1.335386  [   64/60000]\n",
      "loss: 1.314158  [ 6464/60000]\n",
      "loss: 1.152489  [12864/60000]\n",
      "loss: 1.253421  [19264/60000]\n",
      "loss: 1.141755  [25664/60000]\n",
      "loss: 1.155967  [32064/60000]\n",
      "loss: 1.186688  [38464/60000]\n",
      "loss: 1.119174  [44864/60000]\n",
      "loss: 1.153923  [51264/60000]\n",
      "loss: 1.076991  [57664/60000]\n",
      "Test Error: \n",
      " Accuracy: 64.5%, Avg loss: 1.089573 \n",
      "\n",
      "Epoch 6\n",
      "-------------------------------\n",
      "loss: 1.160551  [   64/60000]\n",
      "loss: 1.162230  [ 6464/60000]\n",
      "loss: 0.983326  [12864/60000]\n",
      "loss: 1.112530  [19264/60000]\n",
      "loss: 1.000574  [25664/60000]\n",
      "loss: 1.022692  [32064/60000]\n",
      "loss: 1.064784  [38464/60000]\n",
      "loss: 1.005031  [44864/60000]\n",
      "loss: 1.039553  [51264/60000]\n",
      "loss: 0.973567  [57664/60000]\n",
      "Test Error: \n",
      " Accuracy: 65.5%, Avg loss: 0.981860 \n",
      "\n",
      "Epoch 7\n",
      "-------------------------------\n",
      "loss: 1.039390  [   64/60000]\n",
      "loss: 1.063096  [ 6464/60000]\n",
      "loss: 0.867475  [12864/60000]\n",
      "loss: 1.019019  [19264/60000]\n",
      "loss: 0.911667  [25664/60000]\n",
      "loss: 0.928954  [32064/60000]\n",
      "loss: 0.984946  [38464/60000]\n",
      "loss: 0.931093  [44864/60000]\n",
      "loss: 0.961657  [51264/60000]\n",
      "loss: 0.903964  [57664/60000]\n",
      "Test Error: \n",
      " Accuracy: 66.8%, Avg loss: 0.908746 \n",
      "\n",
      "Epoch 8\n",
      "-------------------------------\n",
      "loss: 0.950667  [   64/60000]\n",
      "loss: 0.994397  [ 6464/60000]\n",
      "loss: 0.784994  [12864/60000]\n",
      "loss: 0.953476  [19264/60000]\n",
      "loss: 0.852253  [25664/60000]\n",
      "loss: 0.860665  [32064/60000]\n",
      "loss: 0.929292  [38464/60000]\n",
      "loss: 0.882014  [44864/60000]\n",
      "loss: 0.905782  [51264/60000]\n",
      "loss: 0.854023  [57664/60000]\n",
      "Test Error: \n",
      " Accuracy: 68.0%, Avg loss: 0.856490 \n",
      "\n",
      "Epoch 9\n",
      "-------------------------------\n",
      "loss: 0.882890  [   64/60000]\n",
      "loss: 0.943322  [ 6464/60000]\n",
      "loss: 0.723539  [12864/60000]\n",
      "loss: 0.904976  [19264/60000]\n",
      "loss: 0.809690  [25664/60000]\n",
      "loss: 0.809621  [32064/60000]\n",
      "loss: 0.887813  [38464/60000]\n",
      "loss: 0.848104  [44864/60000]\n",
      "loss: 0.864140  [51264/60000]\n",
      "loss: 0.815876  [57664/60000]\n",
      "Test Error: \n",
      " Accuracy: 69.3%, Avg loss: 0.817116 \n",
      "\n",
      "Epoch 10\n",
      "-------------------------------\n",
      "loss: 0.829096  [   64/60000]\n",
      "loss: 0.902803  [ 6464/60000]\n",
      "loss: 0.675668  [12864/60000]\n",
      "loss: 0.867719  [19264/60000]\n",
      "loss: 0.777020  [25664/60000]\n",
      "loss: 0.770335  [32064/60000]\n",
      "loss: 0.854685  [38464/60000]\n",
      "loss: 0.823082  [44864/60000]\n",
      "loss: 0.831902  [51264/60000]\n",
      "loss: 0.785246  [57664/60000]\n",
      "Test Error: \n",
      " Accuracy: 70.7%, Avg loss: 0.785950 \n",
      "\n",
      "Done!\n"
     ]
    }
   ],
   "source": [
    "for t in range(epochs):\n",
    "    print(f\"Epoch {t+1}\\n-------------------------------\")\n",
    "    train_loop(train_dataloader, model, loss_fn, optimizer)\n",
    "    test_loop(test_dataloader, model, loss_fn)\n",
    "print(\"Done!\")"
   ]
  },
  {
   "cell_type": "markdown",
   "id": "d6b59910-23aa-4fa3-8215-845e26120ff9",
   "metadata": {},
   "source": [
    "### On GPU"
   ]
  },
  {
   "cell_type": "code",
   "execution_count": 15,
   "id": "6f2967a5-8872-4caf-b35e-e1860b48d1ee",
   "metadata": {
    "tags": []
   },
   "outputs": [
    {
     "name": "stdout",
     "output_type": "stream",
     "text": [
      "469\n",
      "79\n"
     ]
    }
   ],
   "source": [
    "batch_size = 128\n",
    "train_dataloader = DataLoader(training_data, batch_size=batch_size)\n",
    "test_dataloader = DataLoader(test_data, batch_size=batch_size)\n",
    "print(len(train_dataloader))\n",
    "print(len(test_dataloader))"
   ]
  },
  {
   "cell_type": "code",
   "execution_count": 16,
   "id": "0377c6bd-da84-4fe5-901e-be07f347de3a",
   "metadata": {
    "tags": []
   },
   "outputs": [
    {
     "name": "stdout",
     "output_type": "stream",
     "text": [
      "cuda\n"
     ]
    },
    {
     "data": {
      "text/plain": [
       "NeuralNetwork(\n",
       "  (flatten): Flatten(start_dim=1, end_dim=-1)\n",
       "  (linear_relu_stack): Sequential(\n",
       "    (0): Linear(in_features=784, out_features=512, bias=True)\n",
       "    (1): ReLU()\n",
       "    (2): Linear(in_features=512, out_features=512, bias=True)\n",
       "    (3): ReLU()\n",
       "    (4): Linear(in_features=512, out_features=10, bias=True)\n",
       "  )\n",
       ")"
      ]
     },
     "execution_count": 16,
     "metadata": {},
     "output_type": "execute_result"
    }
   ],
   "source": [
    "device = torch.device(\"cuda\" if torch.cuda.is_available() else \"cpu\")\n",
    "print(device)\n",
    "model.to(device)"
   ]
  },
  {
   "cell_type": "code",
   "execution_count": 17,
   "id": "e6c7fade-c039-43b2-ae4a-b2f74b1d937a",
   "metadata": {
    "tags": []
   },
   "outputs": [],
   "source": [
    "def train_loop(dataloader, model, loss_fn, optimizer):\n",
    "    size = len(dataloader.dataset)\n",
    "    # Set the model to training mode - important for batch normalization and dropout layers\n",
    "    # Unnecessary in this situation but added for best practices\n",
    "    model.train()\n",
    "    for batch, (X, y) in enumerate(dataloader):\n",
    "        # Compute prediction and loss\n",
    "        X = X.to(device)\n",
    "        y = y.to(device)\n",
    "        pred = model(X)\n",
    "        loss = loss_fn(pred, y)\n",
    "\n",
    "        # Backpropagation\n",
    "        loss.backward()\n",
    "        optimizer.step()\n",
    "        optimizer.zero_grad()\n",
    "\n",
    "        if batch % 100 == 0:\n",
    "            loss, current = loss.item(), (batch + 1) * len(X)\n",
    "            print(f\"loss: {loss:>7f}  [{current:>5d}/{size:>5d}]\")\n",
    "\n",
    "\n",
    "def test_loop(dataloader, model, loss_fn):\n",
    "    # Set the model to evaluation mode - important for batch normalization and dropout layers\n",
    "    # Unnecessary in this situation but added for best practices\n",
    "    model.eval()\n",
    "    size = len(dataloader.dataset)\n",
    "    num_batches = len(dataloader)\n",
    "    test_loss, correct = 0, 0\n",
    "\n",
    "    # Evaluating the model with torch.no_grad() ensures that no gradients are computed during test mode\n",
    "    # also serves to reduce unnecessary gradient computations and memory usage for tensors with requires_grad=True\n",
    "    with torch.no_grad():\n",
    "        for X, y in dataloader:\n",
    "            X = X.to(device)\n",
    "            y = y.to(device)\n",
    "            pred = model(X)\n",
    "            test_loss += loss_fn(pred, y).item()\n",
    "            correct += (pred.argmax(1) == y).type(torch.float).sum().item()\n",
    "\n",
    "    test_loss /= num_batches\n",
    "    correct /= size\n",
    "    print(f\"Test Error: \\n Accuracy: {(100*correct):>0.1f}%, Avg loss: {test_loss:>8f} \\n\")"
   ]
  },
  {
   "cell_type": "code",
   "execution_count": null,
   "id": "9da89cd5-95f4-4f27-982a-d681dd30f304",
   "metadata": {
    "tags": []
   },
   "outputs": [
    {
     "name": "stdout",
     "output_type": "stream",
     "text": [
      "Epoch 1\n",
      "-------------------------------\n",
      "loss: 1.680225  [  128/60000]\n",
      "loss: 1.604985  [12928/60000]\n",
      "loss: 1.603379  [25728/60000]\n",
      "loss: 1.577578  [38528/60000]\n",
      "loss: 1.560525  [51328/60000]\n",
      "Test Error: \n",
      " Accuracy: 58.3%, Avg loss: 1.522073 \n",
      "\n",
      "Epoch 2\n",
      "-------------------------------\n",
      "loss: 1.498721  [  128/60000]\n",
      "loss: 1.427116  [12928/60000]\n",
      "loss: 1.433744  [25728/60000]\n",
      "loss: 1.409699  [38528/60000]\n",
      "loss: 1.406434  [51328/60000]\n",
      "Test Error: \n",
      " Accuracy: 61.5%, Avg loss: 1.375296 \n",
      "\n",
      "Epoch 3\n",
      "-------------------------------\n",
      "loss: 1.349495  [  128/60000]\n",
      "loss: 1.282040  [12928/60000]\n",
      "loss: 1.294393  [25728/60000]\n",
      "loss: 1.276241  [38528/60000]\n",
      "loss: 1.282853  [51328/60000]\n",
      "Test Error: \n",
      " Accuracy: 63.1%, Avg loss: 1.259563 \n",
      "\n",
      "Epoch 4\n",
      "-------------------------------\n",
      "loss: 1.230895  [  128/60000]\n",
      "loss: 1.165532  [12928/60000]\n",
      "loss: 1.182221  [25728/60000]\n",
      "loss: 1.171731  [38528/60000]\n",
      "loss: 1.185198  [51328/60000]\n",
      "Test Error: \n",
      " Accuracy: 64.1%, Avg loss: 1.168083 \n",
      "\n",
      "Epoch 5\n",
      "-------------------------------\n",
      "loss: 1.135950  [  128/60000]\n",
      "loss: 1.071523  [12928/60000]\n",
      "loss: 1.092899  [25728/60000]\n",
      "loss: 1.088416  [38528/60000]\n",
      "loss: 1.107266  [51328/60000]\n",
      "Test Error: \n",
      " Accuracy: 64.8%, Avg loss: 1.094816 \n",
      "\n",
      "Epoch 6\n",
      "-------------------------------\n",
      "loss: 1.058763  [  128/60000]\n",
      "loss: 0.995080  [12928/60000]\n",
      "loss: 1.021643  [25728/60000]\n",
      "loss: 1.021264  [38528/60000]\n",
      "loss: 1.043991  [51328/60000]\n"
     ]
    }
   ],
   "source": [
    "for t in range(epochs):\n",
    "    print(f\"Epoch {t+1}\\n-------------------------------\")\n",
    "    train_loop(train_dataloader, model, loss_fn, optimizer)\n",
    "    test_loop(test_dataloader, model, loss_fn)\n",
    "print(\"Done!\")"
   ]
  },
  {
   "cell_type": "code",
   "execution_count": null,
   "id": "77021bd6-0c19-4ea6-a146-5528b7a8ed94",
   "metadata": {},
   "outputs": [],
   "source": []
  }
 ],
 "metadata": {
  "kernelspec": {
   "display_name": "Python [conda env:PyTorch]",
   "language": "python",
   "name": "conda-env-PyTorch-py"
  },
  "language_info": {
   "codemirror_mode": {
    "name": "ipython",
    "version": 3
   },
   "file_extension": ".py",
   "mimetype": "text/x-python",
   "name": "python",
   "nbconvert_exporter": "python",
   "pygments_lexer": "ipython3",
   "version": "3.10.12"
  }
 },
 "nbformat": 4,
 "nbformat_minor": 5
}
