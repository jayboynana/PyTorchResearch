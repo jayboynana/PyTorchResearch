{
 "cells": [
  {
   "cell_type": "code",
   "execution_count": 1,
   "id": "initial_id",
   "metadata": {
    "collapsed": true,
    "ExecuteTime": {
     "end_time": "2024-02-27T07:38:35.163505100Z",
     "start_time": "2024-02-27T07:38:32.432246900Z"
    }
   },
   "outputs": [],
   "source": [
    "import torch\n",
    "import torch.nn as nn"
   ]
  },
  {
   "cell_type": "code",
   "outputs": [
    {
     "name": "stdout",
     "output_type": "stream",
     "text": [
      "tensor([[[[1., 1., 1.],\n",
      "          [1., 1., 1.],\n",
      "          [1., 1., 1.]],\n",
      "\n",
      "         [[1., 3., 2.],\n",
      "          [2., 3., 1.],\n",
      "          [3., 1., 3.]]],\n",
      "\n",
      "\n",
      "        [[[2., 3., 4.],\n",
      "          [5., 6., 7.],\n",
      "          [1., 1., 1.]],\n",
      "\n",
      "         [[2., 1., 3.],\n",
      "          [2., 2., 2.],\n",
      "          [4., 1., 2.]]]])\n"
     ]
    }
   ],
   "source": [
    "input = torch.tensor([[[[1,1,1],[1,1,1],[1,1,1]],[[1,3,2],[2,3,1],[3,1,3]]],\n",
    "                      [[[2,3,4],[5,6,7],[1,1,1]],[[2,1,3],[2,2,2],[4,1,2]]]],dtype=torch.float32)\n",
    "# input.size()\n",
    "print(input)"
   ],
   "metadata": {
    "collapsed": false,
    "ExecuteTime": {
     "end_time": "2024-02-27T09:21:35.828964500Z",
     "start_time": "2024-02-27T09:21:35.816328200Z"
    }
   },
   "id": "32d77c854b16dbb3",
   "execution_count": 93
  },
  {
   "cell_type": "code",
   "outputs": [],
   "source": [
    "bn = nn.BatchNorm2d(2)"
   ],
   "metadata": {
    "collapsed": false,
    "ExecuteTime": {
     "end_time": "2024-02-27T09:28:46.316829700Z",
     "start_time": "2024-02-27T09:28:46.302083900Z"
    }
   },
   "id": "641e7dea688891ea",
   "execution_count": 107
  },
  {
   "cell_type": "code",
   "outputs": [
    {
     "name": "stdout",
     "output_type": "stream",
     "text": [
      "tensor([[[[-0.6070, -0.6070, -0.6070],\n",
      "          [-0.6070, -0.6070, -0.6070],\n",
      "          [-0.6070, -0.6070, -0.6070]],\n",
      "\n",
      "         [[-1.2700,  1.0160, -0.1270],\n",
      "          [-0.1270,  1.0160, -1.2700],\n",
      "          [ 1.0160, -1.2700,  1.0160]]],\n",
      "\n",
      "\n",
      "        [[[-0.0867,  0.4336,  0.9538],\n",
      "          [ 1.4741,  1.9944,  2.5146],\n",
      "          [-0.6070, -0.6070, -0.6070]],\n",
      "\n",
      "         [[-0.1270, -1.2700,  1.0160],\n",
      "          [-0.1270, -0.1270, -0.1270],\n",
      "          [ 2.1590, -1.2700, -0.1270]]]], grad_fn=<NativeBatchNormBackward0>)\n"
     ]
    }
   ],
   "source": [
    "output = bn(input)\n",
    "print(output)"
   ],
   "metadata": {
    "collapsed": false,
    "ExecuteTime": {
     "end_time": "2024-02-27T09:28:50.127016900Z",
     "start_time": "2024-02-27T09:28:50.090461Z"
    }
   },
   "id": "7bfbfb706d9f43fa",
   "execution_count": 109
  },
  {
   "cell_type": "code",
   "outputs": [
    {
     "data": {
      "text/plain": "tensor([[[3., 4., 5.],\n         [6., 7., 8.],\n         [2., 2., 2.]],\n\n        [[3., 4., 5.],\n         [4., 5., 3.],\n         [7., 2., 5.]]])"
     },
     "execution_count": 94,
     "metadata": {},
     "output_type": "execute_result"
    }
   ],
   "source": [
    "torch.sum(input,dim=0)    "
   ],
   "metadata": {
    "collapsed": false,
    "ExecuteTime": {
     "end_time": "2024-02-27T09:22:15.489518600Z",
     "start_time": "2024-02-27T09:22:15.462387500Z"
    }
   },
   "id": "e9f3fa4822feceb1",
   "execution_count": 94
  },
  {
   "cell_type": "code",
   "outputs": [
    {
     "data": {
      "text/plain": "tensor(39.)"
     },
     "execution_count": 96,
     "metadata": {},
     "output_type": "execute_result"
    }
   ],
   "source": [
    "# 不同批次同一通道上的和\n",
    "torch.sum(torch.sum(input,dim=0)[0])"
   ],
   "metadata": {
    "collapsed": false,
    "ExecuteTime": {
     "end_time": "2024-02-27T09:23:16.380608Z",
     "start_time": "2024-02-27T09:23:16.369863600Z"
    }
   },
   "id": "3d3dc54cd09c1392",
   "execution_count": 96
  },
  {
   "cell_type": "code",
   "outputs": [
    {
     "name": "stdout",
     "output_type": "stream",
     "text": [
      "tensor(2.1667)\n"
     ]
    }
   ],
   "source": [
    "# 均值\n",
    "m = torch.sum(torch.sum(input,dim=0)[0])/18\n",
    "print(m)"
   ],
   "metadata": {
    "collapsed": false,
    "ExecuteTime": {
     "end_time": "2024-02-27T09:29:29.024300700Z",
     "start_time": "2024-02-27T09:29:29.006223300Z"
    }
   },
   "id": "9b44dbe70c1a125",
   "execution_count": 110
  },
  {
   "cell_type": "code",
   "outputs": [
    {
     "name": "stdout",
     "output_type": "stream",
     "text": [
      "tensor(1.9221)\n"
     ]
    }
   ],
   "source": [
    "# 标准差\n",
    "std = torch.sqrt((torch.sum(\n",
    "    torch.pow(input[0][0]-m,2))+torch.sum(torch.pow(input[1][0]-m,2)))/18)\n",
    "print(std)"
   ],
   "metadata": {
    "collapsed": false,
    "ExecuteTime": {
     "end_time": "2024-02-27T09:30:07.203675600Z",
     "start_time": "2024-02-27T09:30:07.183121100Z"
    }
   },
   "id": "4c2a7152a8ca22f0",
   "execution_count": 111
  },
  {
   "cell_type": "code",
   "outputs": [
    {
     "data": {
      "text/plain": "tensor(0.4336)"
     },
     "execution_count": 112,
     "metadata": {},
     "output_type": "execute_result"
    }
   ],
   "source": [
    "# 计算某个位置BN后的值，可以和前面nn.BatchNorm2d比较，同一位置的结果是一样的！！！\n",
    "(input[0][1][0][1]-m)/std"
   ],
   "metadata": {
    "collapsed": false,
    "ExecuteTime": {
     "end_time": "2024-02-27T09:30:10.337908Z",
     "start_time": "2024-02-27T09:30:10.315965100Z"
    }
   },
   "id": "862bafa7872861f",
   "execution_count": 112
  },
  {
   "cell_type": "code",
   "outputs": [],
   "source": [],
   "metadata": {
    "collapsed": false
   },
   "id": "724313e65efab812"
  }
 ],
 "metadata": {
  "kernelspec": {
   "display_name": "Python 3",
   "language": "python",
   "name": "python3"
  },
  "language_info": {
   "codemirror_mode": {
    "name": "ipython",
    "version": 2
   },
   "file_extension": ".py",
   "mimetype": "text/x-python",
   "name": "python",
   "nbconvert_exporter": "python",
   "pygments_lexer": "ipython2",
   "version": "2.7.6"
  }
 },
 "nbformat": 4,
 "nbformat_minor": 5
}
