{
 "cells": [
  {
   "cell_type": "code",
   "execution_count": 1,
   "id": "d4ff2e6c",
   "metadata": {
    "ExecuteTime": {
     "end_time": "2024-01-20T09:07:32.110385700Z",
     "start_time": "2024-01-20T09:07:29.491875600Z"
    }
   },
   "outputs": [],
   "source": [
    "import torch"
   ]
  },
  {
   "cell_type": "code",
   "execution_count": 2,
   "id": "c3717c00",
   "metadata": {
    "ExecuteTime": {
     "end_time": "2024-01-20T09:08:03.088891200Z",
     "start_time": "2024-01-20T09:08:03.075569400Z"
    }
   },
   "outputs": [],
   "source": [
    "feature_map = torch.randn([1,1,6,6])"
   ]
  },
  {
   "cell_type": "code",
   "execution_count": 3,
   "id": "ca73eea2",
   "metadata": {
    "ExecuteTime": {
     "end_time": "2024-01-20T09:08:07.136416700Z",
     "start_time": "2024-01-20T09:08:07.109800Z"
    }
   },
   "outputs": [
    {
     "data": {
      "text/plain": "tensor([[[[ 1.4042,  0.5860, -0.9162, -1.0422, -0.0093,  0.6880],\n          [ 1.0007,  0.7068, -0.4952,  0.3641, -0.6510, -0.1473],\n          [-2.5994, -0.3006, -0.1664, -0.9222,  2.9053, -0.4375],\n          [ 0.8268, -0.8439, -1.1399, -0.4936, -0.2135,  0.1577],\n          [-1.3668,  1.6553, -1.0639, -2.2389,  1.5165, -1.2089],\n          [-1.1293,  1.2216,  1.1214, -0.8548,  0.1787,  3.2172]]]])"
     },
     "execution_count": 3,
     "metadata": {},
     "output_type": "execute_result"
    }
   ],
   "source": [
    "feature_map"
   ]
  },
  {
   "cell_type": "code",
   "execution_count": 4,
   "id": "5f8975e2",
   "metadata": {
    "ExecuteTime": {
     "end_time": "2024-01-20T09:08:11.960446500Z",
     "start_time": "2024-01-20T09:08:11.256918100Z"
    }
   },
   "outputs": [],
   "source": [
    "from torchvision.ops import RoIPool,RoIAlign"
   ]
  },
  {
   "cell_type": "code",
   "execution_count": 5,
   "id": "f61af03f",
   "metadata": {
    "ExecuteTime": {
     "end_time": "2024-01-20T09:08:13.229544800Z",
     "start_time": "2024-01-20T09:08:13.220306Z"
    }
   },
   "outputs": [],
   "source": [
    "proposal = [torch.as_tensor([[10,10,124,124]],dtype = torch.float32)]"
   ]
  },
  {
   "cell_type": "code",
   "execution_count": 6,
   "id": "06684007",
   "metadata": {
    "ExecuteTime": {
     "end_time": "2024-01-20T09:08:14.651734900Z",
     "start_time": "2024-01-20T09:08:14.626290100Z"
    }
   },
   "outputs": [
    {
     "data": {
      "text/plain": "[tensor([[ 10.,  10., 124., 124.]])]"
     },
     "execution_count": 6,
     "metadata": {},
     "output_type": "execute_result"
    }
   ],
   "source": [
    "proposal"
   ]
  },
  {
   "cell_type": "code",
   "execution_count": 7,
   "id": "e377b286",
   "metadata": {
    "ExecuteTime": {
     "end_time": "2024-01-20T09:08:19.522554Z",
     "start_time": "2024-01-20T09:08:19.506617600Z"
    }
   },
   "outputs": [],
   "source": [
    "roi_align = RoIAlign(output_size=3,spatial_scale=1/32,sampling_ratio=1)"
   ]
  },
  {
   "cell_type": "code",
   "execution_count": 8,
   "id": "6cf7c776",
   "metadata": {
    "ExecuteTime": {
     "end_time": "2024-01-20T09:08:23.718635900Z",
     "start_time": "2024-01-20T09:08:23.704392200Z"
    }
   },
   "outputs": [
    {
     "data": {
      "text/plain": "tensor([[[[ 7.2763e-01, -4.6282e-01,  7.5154e-04],\n          [-5.3215e-01, -3.1624e-01,  1.0090e-01],\n          [-1.0813e-01, -1.1060e+00, -6.3077e-01]]]])"
     },
     "execution_count": 8,
     "metadata": {},
     "output_type": "execute_result"
    }
   ],
   "source": [
    "roi_align(feature_map,proposal)"
   ]
  },
  {
   "cell_type": "code",
   "execution_count": null,
   "id": "054a7148",
   "metadata": {},
   "outputs": [],
   "source": []
  }
 ],
 "metadata": {
  "kernelspec": {
   "name": "python3",
   "language": "python",
   "display_name": "Python 3 (ipykernel)"
  },
  "language_info": {
   "codemirror_mode": {
    "name": "ipython",
    "version": 3
   },
   "file_extension": ".py",
   "mimetype": "text/x-python",
   "name": "python",
   "nbconvert_exporter": "python",
   "pygments_lexer": "ipython3",
   "version": "3.10.13"
  }
 },
 "nbformat": 4,
 "nbformat_minor": 5
}
