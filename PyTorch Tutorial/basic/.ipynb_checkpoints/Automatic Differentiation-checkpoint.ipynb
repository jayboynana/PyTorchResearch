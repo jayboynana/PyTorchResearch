{
 "cells": [
  {
   "cell_type": "code",
   "execution_count": 1,
   "id": "27406040-d332-4425-aafa-dd74cca67612",
   "metadata": {
    "tags": []
   },
   "outputs": [],
   "source": [
    "import torch"
   ]
  },
  {
   "cell_type": "code",
   "execution_count": 10,
   "id": "d4516bf3-2af7-4419-b3c6-654e1270da7a",
   "metadata": {
    "tags": []
   },
   "outputs": [],
   "source": [
    "x = torch.ones(5) # if it is input tensor"
   ]
  },
  {
   "cell_type": "code",
   "execution_count": 11,
   "id": "c17fa070-ecaa-4fdd-8d05-1aac8936a30a",
   "metadata": {
    "tags": []
   },
   "outputs": [
    {
     "data": {
      "text/plain": [
       "tensor([1., 1., 1., 1., 1.])"
      ]
     },
     "execution_count": 11,
     "metadata": {},
     "output_type": "execute_result"
    }
   ],
   "source": [
    "x"
   ]
  },
  {
   "cell_type": "code",
   "execution_count": 12,
   "id": "6015f182-f29a-443e-9fb3-45adaf30ee28",
   "metadata": {
    "tags": []
   },
   "outputs": [],
   "source": [
    "y = torch.zeros(3) # if it is expected output"
   ]
  },
  {
   "cell_type": "code",
   "execution_count": 13,
   "id": "04086933-bfa1-40da-bd8a-863f22d42fdd",
   "metadata": {
    "tags": []
   },
   "outputs": [
    {
     "data": {
      "text/plain": [
       "tensor([0., 0., 0.])"
      ]
     },
     "execution_count": 13,
     "metadata": {},
     "output_type": "execute_result"
    }
   ],
   "source": [
    "y"
   ]
  },
  {
   "cell_type": "code",
   "execution_count": 17,
   "id": "138b1998-e9c3-4984-9a04-33cbc0d4f8b2",
   "metadata": {
    "tags": []
   },
   "outputs": [],
   "source": [
    "w = torch.randn(5,3,requires_grad = True)\n",
    "b = torch.randn(3,requires_grad = True)"
   ]
  },
  {
   "cell_type": "code",
   "execution_count": 18,
   "id": "4f2aa8fc-b3ea-407d-a692-7677bc39f756",
   "metadata": {
    "tags": []
   },
   "outputs": [
    {
     "name": "stdout",
     "output_type": "stream",
     "text": [
      "tensor([[-0.1448,  0.3828, -1.7780],\n",
      "        [ 1.4158,  0.2023, -1.5111],\n",
      "        [ 0.1314, -0.3685,  1.0052],\n",
      "        [ 0.1697, -1.2423, -0.1554],\n",
      "        [ 0.9601, -1.8218, -0.3498]], requires_grad=True)\n",
      "tensor([ 2.4205, -0.9600,  0.2392], requires_grad=True)\n"
     ]
    }
   ],
   "source": [
    "print(w)\n",
    "print(b)"
   ]
  },
  {
   "cell_type": "code",
   "execution_count": 19,
   "id": "dbdc1847-54c5-44c5-87dd-d980e0b6616f",
   "metadata": {
    "tags": []
   },
   "outputs": [],
   "source": [
    "z = torch.matmul(x,w)+b"
   ]
  },
  {
   "cell_type": "code",
   "execution_count": 20,
   "id": "d6527a58-ace5-4260-916e-3919d9b79bc7",
   "metadata": {
    "tags": []
   },
   "outputs": [
    {
     "data": {
      "text/plain": [
       "tensor([ 4.9526, -3.8074, -2.5500], grad_fn=<AddBackward0>)"
      ]
     },
     "execution_count": 20,
     "metadata": {},
     "output_type": "execute_result"
    }
   ],
   "source": [
    "z"
   ]
  },
  {
   "cell_type": "code",
   "execution_count": 21,
   "id": "10303c87-4951-48d8-bd3d-51884a34abeb",
   "metadata": {
    "tags": []
   },
   "outputs": [],
   "source": [
    "loss = torch.nn.functional.binary_cross_entropy_with_logits(z,y)"
   ]
  },
  {
   "cell_type": "code",
   "execution_count": 22,
   "id": "4d384d8d-d462-43f4-9345-934f6d4df899",
   "metadata": {
    "tags": []
   },
   "outputs": [
    {
     "data": {
      "text/plain": [
       "tensor(1.6856, grad_fn=<BinaryCrossEntropyWithLogitsBackward0>)"
      ]
     },
     "execution_count": 22,
     "metadata": {},
     "output_type": "execute_result"
    }
   ],
   "source": [
    "loss"
   ]
  },
  {
   "cell_type": "code",
   "execution_count": 23,
   "id": "abbc02fb-c4bc-467c-9358-4fe2bdcbfbaa",
   "metadata": {
    "tags": []
   },
   "outputs": [
    {
     "name": "stdout",
     "output_type": "stream",
     "text": [
      "None\n",
      "None\n"
     ]
    }
   ],
   "source": [
    "print(w.grad)\n",
    "print(b.grad)"
   ]
  },
  {
   "cell_type": "code",
   "execution_count": 24,
   "id": "6fe4bbda-571f-49b2-a6b8-035ae51b9153",
   "metadata": {
    "tags": []
   },
   "outputs": [],
   "source": [
    "loss.backward()"
   ]
  },
  {
   "cell_type": "code",
   "execution_count": 25,
   "id": "fe6f65c3-54a3-437a-9813-100ce043b438",
   "metadata": {
    "tags": []
   },
   "outputs": [
    {
     "name": "stdout",
     "output_type": "stream",
     "text": [
      "tensor([[0.3310, 0.0072, 0.0241],\n",
      "        [0.3310, 0.0072, 0.0241],\n",
      "        [0.3310, 0.0072, 0.0241],\n",
      "        [0.3310, 0.0072, 0.0241],\n",
      "        [0.3310, 0.0072, 0.0241]])\n",
      "tensor([0.3310, 0.0072, 0.0241])\n"
     ]
    }
   ],
   "source": [
    "print(w.grad)\n",
    "print(b.grad)"
   ]
  },
  {
   "cell_type": "code",
   "execution_count": 29,
   "id": "ffdd0ff4-28c5-4849-85d6-915c7539f112",
   "metadata": {
    "tags": []
   },
   "outputs": [
    {
     "name": "stdout",
     "output_type": "stream",
     "text": [
      "tensor([[1., 0., 0., 0., 0.],\n",
      "        [0., 1., 0., 0., 0.],\n",
      "        [0., 0., 1., 0., 0.],\n",
      "        [0., 0., 0., 1., 0.]], requires_grad=True)\n",
      "\n",
      "tensor([[4., 1., 1., 1.],\n",
      "        [1., 4., 1., 1.],\n",
      "        [1., 1., 4., 1.],\n",
      "        [1., 1., 1., 4.],\n",
      "        [1., 1., 1., 1.]], grad_fn=<TBackward0>)\n",
      "\n",
      "First call\n",
      "tensor([[4., 2., 2., 2., 2.],\n",
      "        [2., 4., 2., 2., 2.],\n",
      "        [2., 2., 4., 2., 2.],\n",
      "        [2., 2., 2., 4., 2.]])\n",
      "\n",
      "Second call\n",
      "tensor([[8., 4., 4., 4., 4.],\n",
      "        [4., 8., 4., 4., 4.],\n",
      "        [4., 4., 8., 4., 4.],\n",
      "        [4., 4., 4., 8., 4.]])\n",
      "\n",
      "Call after zeroing gradients\n",
      "tensor([[4., 2., 2., 2., 2.],\n",
      "        [2., 4., 2., 2., 2.],\n",
      "        [2., 2., 4., 2., 2.],\n",
      "        [2., 2., 2., 4., 2.]])\n"
     ]
    }
   ],
   "source": [
    "inp = torch.eye(4, 5, requires_grad=True)\n",
    "print(f\"{inp}\\n\")\n",
    "out = (inp+1).pow(2).t()\n",
    "print(f\"{out}\\n\")\n",
    "out.backward(torch.ones_like(out), retain_graph=True)\n",
    "print(f\"First call\\n{inp.grad}\")\n",
    "out.backward(torch.ones_like(out), retain_graph=True)\n",
    "print(f\"\\nSecond call\\n{inp.grad}\")\n",
    "inp.grad.zero_()\n",
    "out.backward(torch.ones_like(out), retain_graph=True)\n",
    "print(f\"\\nCall after zeroing gradients\\n{inp.grad}\")"
   ]
  },
  {
   "cell_type": "code",
   "execution_count": 30,
   "id": "859541bc-c1cc-4387-99ba-1d5bb45bd647",
   "metadata": {
    "tags": []
   },
   "outputs": [
    {
     "data": {
      "text/plain": [
       "tensor([[1., 1., 1., 1.],\n",
       "        [1., 1., 1., 1.],\n",
       "        [1., 1., 1., 1.],\n",
       "        [1., 1., 1., 1.],\n",
       "        [1., 1., 1., 1.]])"
      ]
     },
     "execution_count": 30,
     "metadata": {},
     "output_type": "execute_result"
    }
   ],
   "source": [
    "torch.ones_like(out)"
   ]
  },
  {
   "cell_type": "code",
   "execution_count": null,
   "id": "53acafa9-b80b-493e-8dc8-2b6536f40a71",
   "metadata": {},
   "outputs": [],
   "source": []
  }
 ],
 "metadata": {
  "kernelspec": {
   "display_name": "Python [conda env:PyTorch]",
   "language": "python",
   "name": "conda-env-PyTorch-py"
  },
  "language_info": {
   "codemirror_mode": {
    "name": "ipython",
    "version": 3
   },
   "file_extension": ".py",
   "mimetype": "text/x-python",
   "name": "python",
   "nbconvert_exporter": "python",
   "pygments_lexer": "ipython3",
   "version": "3.10.12"
  }
 },
 "nbformat": 4,
 "nbformat_minor": 5
}
